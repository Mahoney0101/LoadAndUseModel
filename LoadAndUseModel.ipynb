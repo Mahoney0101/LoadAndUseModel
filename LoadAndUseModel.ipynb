{
  "nbformat": 4,
  "nbformat_minor": 0,
  "metadata": {
    "colab": {
      "name": "LoadAndUseModel.ipynb",
      "provenance": []
    },
    "kernelspec": {
      "name": "python3",
      "display_name": "Python 3"
    }
  },
  "cells": [
    {
      "cell_type": "code",
      "metadata": {
        "colab": {
          "base_uri": "https://localhost:8080/"
        },
        "id": "V0oZceWOnmwt",
        "outputId": "9489ced7-8200-4888-c710-1131ef63218f"
      },
      "source": [
        "from google.colab import drive\n",
        "\n",
        "drive.mount(\"/content/gdrive\")"
      ],
      "execution_count": 1,
      "outputs": [
        {
          "output_type": "stream",
          "text": [
            "Mounted at /content/gdrive\n"
          ],
          "name": "stdout"
        }
      ]
    },
    {
      "cell_type": "code",
      "metadata": {
        "id": "zfP5eGO_oKw1"
      },
      "source": [
        "from tensorflow import keras\n",
        "model = keras.models.load_model('/content/gdrive/MyDrive/CNNModel.h5')"
      ],
      "execution_count": 2,
      "outputs": []
    },
    {
      "cell_type": "code",
      "metadata": {
        "id": "vOwcg-KEoc9W"
      },
      "source": [
        "from numpy import load\n",
        "wheezes = load('/content/gdrive/MyDrive/wheezedata.npy',allow_pickle=True)\n",
        "both = load('/content/gdrive/MyDrive/bothdata.npy',allow_pickle=True)\n",
        "crackles = load('/content/gdrive/MyDrive/cracklesdata.npy',allow_pickle=True)\n",
        "none = load('/content/gdrive/MyDrive/data.npy',allow_pickle=True)"
      ],
      "execution_count": 8,
      "outputs": []
    },
    {
      "cell_type": "code",
      "metadata": {
        "id": "HyqdoDVMpZgs"
      },
      "source": [
        "model.compile()"
      ],
      "execution_count": 9,
      "outputs": []
    },
    {
      "cell_type": "code",
      "metadata": {
        "id": "z6_LGqqep8Ff"
      },
      "source": [
        "import numpy as np"
      ],
      "execution_count": 18,
      "outputs": []
    },
    {
      "cell_type": "code",
      "metadata": {
        "id": "UL175LIcpd_D"
      },
      "source": [
        "clip=[]\n",
        "clip.append(none[1][0].reshape(50,245,1))\n",
        "clip.append(wheezes[1][0].reshape(50,245,1))\n",
        "clip.append(wheezes[2][0].reshape(50,245,1))\n",
        "clip.append(wheezes[2][0].reshape(50,245,1))\n",
        "clip.append(both[7][0].reshape(50,245,1))\n",
        "clip.append(both[4][0].reshape(50,245,1))\n",
        "clip.append(none[5][0].reshape(50,245,1))\n",
        "\n",
        "clip = np.array(clip)\n",
        "prediction = model.predict(clip)"
      ],
      "execution_count": 23,
      "outputs": []
    },
    {
      "cell_type": "code",
      "metadata": {
        "colab": {
          "base_uri": "https://localhost:8080/"
        },
        "id": "0_bHuAX2o-4E",
        "outputId": "57c58803-22b0-4268-e538-181b2c852a9c"
      },
      "source": [
        "classes = np.argmax(prediction, axis = 1)\n",
        "print(classes)"
      ],
      "execution_count": 24,
      "outputs": [
        {
          "output_type": "stream",
          "text": [
            "[0 2 2 2 3 3 0]\n"
          ],
          "name": "stdout"
        }
      ]
    }
  ]
}